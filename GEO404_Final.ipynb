{
 "cells": [
  {
   "cell_type": "code",
   "execution_count": 72,
   "id": "446ea431-ed6a-4da0-bfa1-9494306e17ed",
   "metadata": {},
   "outputs": [
    {
     "name": "stdout",
     "output_type": "stream",
     "text": [
      "Solar data for 34.0549076, -118.242643 (2020) retrieved successfully!\n",
      "Total Solar Irradiance: 2016.57 kWh/m² for the year.\n",
      "Yearly Total Solar Irradiance for los Angeles CA (2020): 2016.57 kWh/m²\n",
      "\n",
      "   Temperature  Clearsky DHI  Clearsky DNI  Clearsky GHI  Cloud Type  \\\n",
      "0         13.8            25           293            44           0   \n",
      "1         12.4             0             0             0           0   \n",
      "2         11.6             0             0             0           0   \n",
      "3         11.0             0             0             0           0   \n",
      "4         10.3             0             0             0           0   \n",
      "\n",
      "   Dew Point  DHI  DNI  Fill Flag  GHI  ...  Solar Zenith Angle  \\\n",
      "0        7.3   26  286          4   44  ...               86.32   \n",
      "1        5.9    0    0          0    0  ...               97.60   \n",
      "2        5.5    0    0          0    0  ...              109.34   \n",
      "3        5.0    0    0          0    0  ...              121.50   \n",
      "4        4.5    0    0          0    0  ...              133.88   \n",
      "\n",
      "   Surface Albedo  Pressure  Precipitable Water  Wind Direction  Wind Speed  \\\n",
      "0            0.14       991                 0.9             352         1.1   \n",
      "1            0.14       992                 0.9             181         1.3   \n",
      "2            0.14       992                 0.9              14         1.3   \n",
      "3            0.14       993                 0.9              27         1.4   \n",
      "4            0.14       993                 0.9              37         1.6   \n",
      "\n",
      "   Global Horizontal UV Irradiance (280-400nm)  \\\n",
      "0                                          0.0   \n",
      "1                                          0.0   \n",
      "2                                          0.0   \n",
      "3                                          0.0   \n",
      "4                                          0.0   \n",
      "\n",
      "   Global Horizontal UV Irradiance (295-385nm)            DateTime GHI_kWh/m²  \n",
      "0                                          0.0 2020-01-01 00:30:00      0.044  \n",
      "1                                          0.0 2020-01-01 01:30:00      0.000  \n",
      "2                                          0.0 2020-01-01 02:30:00      0.000  \n",
      "3                                          0.0 2020-01-01 03:30:00      0.000  \n",
      "4                                          0.0 2020-01-01 04:30:00      0.000  \n",
      "\n",
      "[5 rows x 21 columns]\n"
     ]
    }
   ],
   "source": [
    "# ANNUAL SOLAR IRRADIANCE DATA BY ADDRESS\n",
    "def get_solar_data(address, year):\n",
    "    \"\"\"\n",
    "    Fetch, process, and analyze solar irradiance data for a single address and year.\n",
    "    \n",
    "    Parameters:\n",
    "        address (str): The address to fetch data for.\n",
    "        year (str): The year to fetch data for.\n",
    "        \n",
    "    Returns:\n",
    "        pd.DataFrame: Processed solar irradiance data.\n",
    "        float: Total annual solar irradiance in kWh/m².\n",
    "    \"\"\"\n",
    "    # Geocode the address\n",
    "    lat, lon = geocode_address(address)\n",
    "    if lat is None or lon is None:\n",
    "        raise ValueError(f\"Could not geocode the address: {address}\")\n",
    "\n",
    "    solar_data = fetch_solar_data(lat, lon, year) # Getting the solar data\n",
    "    if solar_data is None:\n",
    "        raise ValueError(f\"Could not fetch solar data for {address} in {year}.\")\n",
    "\n",
    "    solar_data = process_solar_data(solar_data) \n",
    "    total_kwh = convert_to_kwh_per_m2(solar_data) # Converting the data from W to kW/m^2\n",
    "    print(f\"Yearly Total Solar Irradiance for {address} ({year}): {total_kwh:.2f} kWh/m²\\n\")\n",
    "    \n",
    "    return solar_data, total_kwh\n",
    "#--------------------------------------------------------------------------------------------------------------------------------------\n",
    "# ADDRESS AND YEAR INPUTS\n",
    "address = \"los Angeles CA\"\n",
    "year = \"2020\"\n",
    "solar_data, total_kwh = get_solar_data(address, year)\n",
    "print(solar_data.head())\n"
   ]
  },
  {
   "cell_type": "code",
   "execution_count": 68,
   "id": "69453e94-b994-4b37-a2c7-627786b39f51",
   "metadata": {},
   "outputs": [
    {
     "name": "stdout",
     "output_type": "stream",
     "text": [
      "Total Solar Energy Capacity for 10 Down Lane Mansfield MA: 14496.86 kWh/year\n"
     ]
    }
   ],
   "source": [
    "def calculate_solar_energy_capacity(total_irradiance, panel_area, efficiency):\n",
    "    \"\"\"\n",
    "    Calculate the total solar energy capacity for a location.\n",
    "    \n",
    "    Parameters:\n",
    "        total_irradiance (float): Total solar irradiance for the year (kWh/m²).\n",
    "        panel_area (float): Total area of solar panels (m²).\n",
    "        efficiency (float): Efficiency of the solar panels (e.g., 0.20 for 20%).\n",
    "    \n",
    "    Returns:\n",
    "        float: Total solar energy capacity (kWh/year).\n",
    "    \"\"\"\n",
    "    if efficiency <= 0 or efficiency > 1:\n",
    "        raise ValueError(\"Efficiency must be between 0 and 1.\")\n",
    "    if panel_area <= 0:\n",
    "        raise ValueError(\"Panel area must be greater than 0.\")\n",
    "    \n",
    "    # Calculate total energy\n",
    "    total_energy = total_irradiance * panel_area * efficiency\n",
    "    return total_energy\n",
    "\n",
    "# Equation inputs\n",
    "total_irradiance = total_kwh  # Total solar irradiance in kWh/m² \n",
    "panel_area = 50               # Solar panel area in m²\n",
    "efficiency = 0.20             # Solar panel efficiency (20%)\n",
    "\n",
    "# Calculate total solar energy capacity\n",
    "total_energy_capacity = calculate_solar_energy_capacity(total_irradiance, panel_area, efficiency)\n",
    "print(f\"Total Solar Energy Capacity for {address}: {total_energy_capacity:.2f} kWh/year\")\n"
   ]
  },
  {
   "cell_type": "code",
   "execution_count": null,
   "id": "dadef4b8-c7d5-46a6-b4e1-167f419dd7b0",
   "metadata": {},
   "outputs": [],
   "source": []
  }
 ],
 "metadata": {
  "kernelspec": {
   "display_name": "Python 3 (ipykernel)",
   "language": "python",
   "name": "python3"
  },
  "language_info": {
   "codemirror_mode": {
    "name": "ipython",
    "version": 3
   },
   "file_extension": ".py",
   "mimetype": "text/x-python",
   "name": "python",
   "nbconvert_exporter": "python",
   "pygments_lexer": "ipython3",
   "version": "3.12.2"
  }
 },
 "nbformat": 4,
 "nbformat_minor": 5
}
